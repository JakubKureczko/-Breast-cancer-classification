{
 "cells": [
  {
   "cell_type": "markdown",
   "id": "ee610390",
   "metadata": {},
   "source": [
    "1. Importing Libraries"
   ]
  },
  {
   "cell_type": "code",
   "execution_count": 1,
   "id": "b03d31a3",
   "metadata": {},
   "outputs": [],
   "source": [
    "import numpy as np\n",
    "import pandas as pd\n",
    "import matplotlib.pyplot as plt\n",
    "import seaborn as sns\n",
    "\n",
    "from sklearn.model_selection import train_test_split\n",
    "from sklearn.preprocessing import StandardScaler, PowerTransformer\n",
    "from sklearn.metrics import confusion_matrix, classification_report\n",
    "\n",
    "from sklearn.svm import SVC\n",
    "from sklearn.tree import DecisionTreeClassifier\n",
    "from sklearn.neighbors import KNeighborsClassifier\n",
    "from sklearn.naive_bayes import GaussianNB\n",
    "from sklearn.linear_model import LogisticRegression\n",
    "from sklearn.ensemble import RandomForestClassifier, VotingClassifier\n",
    "from xgboost import XGBClassifier\n",
    "\n",
    "from impipy import Importance\n",
    "\n",
    "import warnings\n",
    "warnings.filterwarnings('ignore')\n",
    "\n",
    "plt.style.use('ggplot')\n",
    "plt.rcParams['figure.figsize'] = (7, 4)  "
   ]
  },
  {
   "cell_type": "markdown",
   "id": "33ab3d19",
   "metadata": {},
   "source": [
    "2. Initial Data Exploration"
   ]
  },
  {
   "cell_type": "code",
   "execution_count": 2,
   "id": "961d941e",
   "metadata": {},
   "outputs": [],
   "source": [
    "df = pd.read_csv('./dataR2.csv')"
   ]
  },
  {
   "cell_type": "code",
   "execution_count": 3,
   "id": "736fe932",
   "metadata": {
    "scrolled": true
   },
   "outputs": [
    {
     "data": {
      "text/html": [
       "<div>\n",
       "<style scoped>\n",
       "    .dataframe tbody tr th:only-of-type {\n",
       "        vertical-align: middle;\n",
       "    }\n",
       "\n",
       "    .dataframe tbody tr th {\n",
       "        vertical-align: top;\n",
       "    }\n",
       "\n",
       "    .dataframe thead th {\n",
       "        text-align: right;\n",
       "    }\n",
       "</style>\n",
       "<table border=\"1\" class=\"dataframe\">\n",
       "  <thead>\n",
       "    <tr style=\"text-align: right;\">\n",
       "      <th></th>\n",
       "      <th>Age</th>\n",
       "      <th>BMI</th>\n",
       "      <th>Glucose</th>\n",
       "      <th>Insulin</th>\n",
       "      <th>HOMA</th>\n",
       "      <th>Leptin</th>\n",
       "      <th>Adiponectin</th>\n",
       "      <th>Resistin</th>\n",
       "      <th>MCP.1</th>\n",
       "      <th>Classification</th>\n",
       "    </tr>\n",
       "  </thead>\n",
       "  <tbody>\n",
       "    <tr>\n",
       "      <th>0</th>\n",
       "      <td>48</td>\n",
       "      <td>23.500000</td>\n",
       "      <td>70</td>\n",
       "      <td>2.707</td>\n",
       "      <td>0.467409</td>\n",
       "      <td>8.8071</td>\n",
       "      <td>9.702400</td>\n",
       "      <td>7.99585</td>\n",
       "      <td>417.114</td>\n",
       "      <td>1</td>\n",
       "    </tr>\n",
       "    <tr>\n",
       "      <th>1</th>\n",
       "      <td>83</td>\n",
       "      <td>20.690495</td>\n",
       "      <td>92</td>\n",
       "      <td>3.115</td>\n",
       "      <td>0.706897</td>\n",
       "      <td>8.8438</td>\n",
       "      <td>5.429285</td>\n",
       "      <td>4.06405</td>\n",
       "      <td>468.786</td>\n",
       "      <td>1</td>\n",
       "    </tr>\n",
       "    <tr>\n",
       "      <th>2</th>\n",
       "      <td>82</td>\n",
       "      <td>23.124670</td>\n",
       "      <td>91</td>\n",
       "      <td>4.498</td>\n",
       "      <td>1.009651</td>\n",
       "      <td>17.9393</td>\n",
       "      <td>22.432040</td>\n",
       "      <td>9.27715</td>\n",
       "      <td>554.697</td>\n",
       "      <td>1</td>\n",
       "    </tr>\n",
       "    <tr>\n",
       "      <th>3</th>\n",
       "      <td>68</td>\n",
       "      <td>21.367521</td>\n",
       "      <td>77</td>\n",
       "      <td>3.226</td>\n",
       "      <td>0.612725</td>\n",
       "      <td>9.8827</td>\n",
       "      <td>7.169560</td>\n",
       "      <td>12.76600</td>\n",
       "      <td>928.220</td>\n",
       "      <td>1</td>\n",
       "    </tr>\n",
       "    <tr>\n",
       "      <th>4</th>\n",
       "      <td>86</td>\n",
       "      <td>21.111111</td>\n",
       "      <td>92</td>\n",
       "      <td>3.549</td>\n",
       "      <td>0.805386</td>\n",
       "      <td>6.6994</td>\n",
       "      <td>4.819240</td>\n",
       "      <td>10.57635</td>\n",
       "      <td>773.920</td>\n",
       "      <td>1</td>\n",
       "    </tr>\n",
       "  </tbody>\n",
       "</table>\n",
       "</div>"
      ],
      "text/plain": [
       "   Age        BMI  Glucose  Insulin      HOMA   Leptin  Adiponectin  Resistin  \\\n",
       "0   48  23.500000       70    2.707  0.467409   8.8071     9.702400   7.99585   \n",
       "1   83  20.690495       92    3.115  0.706897   8.8438     5.429285   4.06405   \n",
       "2   82  23.124670       91    4.498  1.009651  17.9393    22.432040   9.27715   \n",
       "3   68  21.367521       77    3.226  0.612725   9.8827     7.169560  12.76600   \n",
       "4   86  21.111111       92    3.549  0.805386   6.6994     4.819240  10.57635   \n",
       "\n",
       "     MCP.1  Classification  \n",
       "0  417.114               1  \n",
       "1  468.786               1  \n",
       "2  554.697               1  \n",
       "3  928.220               1  \n",
       "4  773.920               1  "
      ]
     },
     "execution_count": 3,
     "metadata": {},
     "output_type": "execute_result"
    }
   ],
   "source": [
    "df.head()"
   ]
  },
  {
   "cell_type": "code",
   "execution_count": 4,
   "id": "ce6fbaa9",
   "metadata": {},
   "outputs": [
    {
     "name": "stdout",
     "output_type": "stream",
     "text": [
      "<class 'pandas.core.frame.DataFrame'>\n",
      "RangeIndex: 116 entries, 0 to 115\n",
      "Data columns (total 10 columns):\n",
      " #   Column          Non-Null Count  Dtype  \n",
      "---  ------          --------------  -----  \n",
      " 0   Age             116 non-null    int64  \n",
      " 1   BMI             116 non-null    float64\n",
      " 2   Glucose         116 non-null    int64  \n",
      " 3   Insulin         116 non-null    float64\n",
      " 4   HOMA            116 non-null    float64\n",
      " 5   Leptin          116 non-null    float64\n",
      " 6   Adiponectin     116 non-null    float64\n",
      " 7   Resistin        116 non-null    float64\n",
      " 8   MCP.1           116 non-null    float64\n",
      " 9   Classification  116 non-null    int64  \n",
      "dtypes: float64(7), int64(3)\n",
      "memory usage: 9.2 KB\n"
     ]
    }
   ],
   "source": [
    "df.info()"
   ]
  },
  {
   "cell_type": "code",
   "execution_count": 5,
   "id": "5b6d0628",
   "metadata": {
    "scrolled": true
   },
   "outputs": [
    {
     "data": {
      "text/html": [
       "<div>\n",
       "<style scoped>\n",
       "    .dataframe tbody tr th:only-of-type {\n",
       "        vertical-align: middle;\n",
       "    }\n",
       "\n",
       "    .dataframe tbody tr th {\n",
       "        vertical-align: top;\n",
       "    }\n",
       "\n",
       "    .dataframe thead th {\n",
       "        text-align: right;\n",
       "    }\n",
       "</style>\n",
       "<table border=\"1\" class=\"dataframe\">\n",
       "  <thead>\n",
       "    <tr style=\"text-align: right;\">\n",
       "      <th></th>\n",
       "      <th>Age</th>\n",
       "      <th>BMI</th>\n",
       "      <th>Glucose</th>\n",
       "      <th>Insulin</th>\n",
       "      <th>HOMA</th>\n",
       "      <th>Leptin</th>\n",
       "      <th>Adiponectin</th>\n",
       "      <th>Resistin</th>\n",
       "      <th>MCP.1</th>\n",
       "      <th>Classification</th>\n",
       "    </tr>\n",
       "  </thead>\n",
       "  <tbody>\n",
       "    <tr>\n",
       "      <th>count</th>\n",
       "      <td>116.000000</td>\n",
       "      <td>116.000000</td>\n",
       "      <td>116.000000</td>\n",
       "      <td>116.000000</td>\n",
       "      <td>116.000000</td>\n",
       "      <td>116.000000</td>\n",
       "      <td>116.000000</td>\n",
       "      <td>116.000000</td>\n",
       "      <td>116.000000</td>\n",
       "      <td>116.000000</td>\n",
       "    </tr>\n",
       "    <tr>\n",
       "      <th>mean</th>\n",
       "      <td>57.301724</td>\n",
       "      <td>27.582111</td>\n",
       "      <td>97.793103</td>\n",
       "      <td>10.012086</td>\n",
       "      <td>2.694988</td>\n",
       "      <td>26.615080</td>\n",
       "      <td>10.180874</td>\n",
       "      <td>14.725966</td>\n",
       "      <td>534.647000</td>\n",
       "      <td>1.551724</td>\n",
       "    </tr>\n",
       "    <tr>\n",
       "      <th>std</th>\n",
       "      <td>16.112766</td>\n",
       "      <td>5.020136</td>\n",
       "      <td>22.525162</td>\n",
       "      <td>10.067768</td>\n",
       "      <td>3.642043</td>\n",
       "      <td>19.183294</td>\n",
       "      <td>6.843341</td>\n",
       "      <td>12.390646</td>\n",
       "      <td>345.912663</td>\n",
       "      <td>0.499475</td>\n",
       "    </tr>\n",
       "    <tr>\n",
       "      <th>min</th>\n",
       "      <td>24.000000</td>\n",
       "      <td>18.370000</td>\n",
       "      <td>60.000000</td>\n",
       "      <td>2.432000</td>\n",
       "      <td>0.467409</td>\n",
       "      <td>4.311000</td>\n",
       "      <td>1.656020</td>\n",
       "      <td>3.210000</td>\n",
       "      <td>45.843000</td>\n",
       "      <td>1.000000</td>\n",
       "    </tr>\n",
       "    <tr>\n",
       "      <th>25%</th>\n",
       "      <td>45.000000</td>\n",
       "      <td>22.973205</td>\n",
       "      <td>85.750000</td>\n",
       "      <td>4.359250</td>\n",
       "      <td>0.917966</td>\n",
       "      <td>12.313675</td>\n",
       "      <td>5.474283</td>\n",
       "      <td>6.881763</td>\n",
       "      <td>269.978250</td>\n",
       "      <td>1.000000</td>\n",
       "    </tr>\n",
       "    <tr>\n",
       "      <th>50%</th>\n",
       "      <td>56.000000</td>\n",
       "      <td>27.662416</td>\n",
       "      <td>92.000000</td>\n",
       "      <td>5.924500</td>\n",
       "      <td>1.380939</td>\n",
       "      <td>20.271000</td>\n",
       "      <td>8.352692</td>\n",
       "      <td>10.827740</td>\n",
       "      <td>471.322500</td>\n",
       "      <td>2.000000</td>\n",
       "    </tr>\n",
       "    <tr>\n",
       "      <th>75%</th>\n",
       "      <td>71.000000</td>\n",
       "      <td>31.241442</td>\n",
       "      <td>102.000000</td>\n",
       "      <td>11.189250</td>\n",
       "      <td>2.857787</td>\n",
       "      <td>37.378300</td>\n",
       "      <td>11.815970</td>\n",
       "      <td>17.755207</td>\n",
       "      <td>700.085000</td>\n",
       "      <td>2.000000</td>\n",
       "    </tr>\n",
       "    <tr>\n",
       "      <th>max</th>\n",
       "      <td>89.000000</td>\n",
       "      <td>38.578759</td>\n",
       "      <td>201.000000</td>\n",
       "      <td>58.460000</td>\n",
       "      <td>25.050342</td>\n",
       "      <td>90.280000</td>\n",
       "      <td>38.040000</td>\n",
       "      <td>82.100000</td>\n",
       "      <td>1698.440000</td>\n",
       "      <td>2.000000</td>\n",
       "    </tr>\n",
       "  </tbody>\n",
       "</table>\n",
       "</div>"
      ],
      "text/plain": [
       "              Age         BMI     Glucose     Insulin        HOMA      Leptin  \\\n",
       "count  116.000000  116.000000  116.000000  116.000000  116.000000  116.000000   \n",
       "mean    57.301724   27.582111   97.793103   10.012086    2.694988   26.615080   \n",
       "std     16.112766    5.020136   22.525162   10.067768    3.642043   19.183294   \n",
       "min     24.000000   18.370000   60.000000    2.432000    0.467409    4.311000   \n",
       "25%     45.000000   22.973205   85.750000    4.359250    0.917966   12.313675   \n",
       "50%     56.000000   27.662416   92.000000    5.924500    1.380939   20.271000   \n",
       "75%     71.000000   31.241442  102.000000   11.189250    2.857787   37.378300   \n",
       "max     89.000000   38.578759  201.000000   58.460000   25.050342   90.280000   \n",
       "\n",
       "       Adiponectin    Resistin        MCP.1  Classification  \n",
       "count   116.000000  116.000000   116.000000      116.000000  \n",
       "mean     10.180874   14.725966   534.647000        1.551724  \n",
       "std       6.843341   12.390646   345.912663        0.499475  \n",
       "min       1.656020    3.210000    45.843000        1.000000  \n",
       "25%       5.474283    6.881763   269.978250        1.000000  \n",
       "50%       8.352692   10.827740   471.322500        2.000000  \n",
       "75%      11.815970   17.755207   700.085000        2.000000  \n",
       "max      38.040000   82.100000  1698.440000        2.000000  "
      ]
     },
     "execution_count": 5,
     "metadata": {},
     "output_type": "execute_result"
    }
   ],
   "source": [
    "df.describe()"
   ]
  },
  {
   "cell_type": "code",
   "execution_count": 6,
   "id": "3e8f7b96",
   "metadata": {},
   "outputs": [
    {
     "data": {
      "text/plain": [
       "(116, 10)"
      ]
     },
     "execution_count": 6,
     "metadata": {},
     "output_type": "execute_result"
    }
   ],
   "source": [
    "df.shape"
   ]
  },
  {
   "cell_type": "code",
   "execution_count": 7,
   "id": "90a7d8d9",
   "metadata": {
    "scrolled": true
   },
   "outputs": [
    {
     "data": {
      "text/plain": [
       "Age               0\n",
       "BMI               0\n",
       "Glucose           0\n",
       "Insulin           0\n",
       "HOMA              0\n",
       "Leptin            0\n",
       "Adiponectin       0\n",
       "Resistin          0\n",
       "MCP.1             0\n",
       "Classification    0\n",
       "dtype: int64"
      ]
     },
     "execution_count": 7,
     "metadata": {},
     "output_type": "execute_result"
    }
   ],
   "source": [
    "df.isnull().sum()"
   ]
  },
  {
   "cell_type": "code",
   "execution_count": 8,
   "id": "1294ad5a-c48d-4ac7-98ef-71473114a952",
   "metadata": {},
   "outputs": [
    {
     "data": {
      "text/plain": [
       "0"
      ]
     },
     "execution_count": 8,
     "metadata": {},
     "output_type": "execute_result"
    }
   ],
   "source": [
    "df.duplicated().sum()"
   ]
  },
  {
   "cell_type": "code",
   "execution_count": 9,
   "id": "4a562c67",
   "metadata": {},
   "outputs": [
    {
     "data": {
      "text/plain": [
       "Classification\n",
       "2    64\n",
       "1    52\n",
       "Name: count, dtype: int64"
      ]
     },
     "execution_count": 9,
     "metadata": {},
     "output_type": "execute_result"
    }
   ],
   "source": [
    "df['Classification'].value_counts()"
   ]
  },
  {
   "cell_type": "code",
   "execution_count": 10,
   "id": "df4a9c2e",
   "metadata": {},
   "outputs": [
    {
     "data": {
      "text/plain": [
       "Classification\n",
       "2    55.17\n",
       "1    44.83\n",
       "Name: proportion, dtype: float64"
      ]
     },
     "execution_count": 10,
     "metadata": {},
     "output_type": "execute_result"
    }
   ],
   "source": [
    "round(df['Classification'].value_counts(normalize=True)*100,2)"
   ]
  },
  {
   "cell_type": "markdown",
   "id": "72956ffe",
   "metadata": {},
   "source": [
    "3. Data Visualization"
   ]
  },
  {
   "cell_type": "code",
   "execution_count": 11,
   "id": "95702165",
   "metadata": {
    "scrolled": true
   },
   "outputs": [
    {
     "data": {
      "image/png": "[encoded data removed]",
      "text/plain": [
       "<Figure size 700x400 with 1 Axes>"
      ]
     },
     "metadata": {},
     "output_type": "display_data"
    }
   ],
   "source": [
    "_ = sns.countplot(x='Classification', data=df, palette='colorblind')"
   ]
  },
  {
   "cell_type": "code",
   "execution_count": 12,
   "id": "75b0d1df-c7a2-4da2-a715-33da80af09dd",
   "metadata": {},
   "outputs": [
    {
     "data": {
      "image/png": "[encoded data removed]",
      "text/plain": [
       "<Figure size 700x400 with 1 Axes>"
      ]
     },
     "metadata": {},
     "output_type": "display_data"
    }
   ],
   "source": [
    "_ = sns.scatterplot(data=df, x='BMI', y='Glucose')"
   ]
  },
  {
   "cell_type": "code",
   "execution_count": 13,
   "id": "f3846ba4",
   "metadata": {},
   "outputs": [
    {
     "data": {
      "image/png": "[encoded data removed]",
      "text/plain": [
       "<Figure size 1500x1100 with 12 Axes>"
      ]
     },
     "metadata": {},
     "output_type": "display_data"
    }
   ],
   "source": [
    "_ = df.hist(bins=13, figsize=(15, 11))"
   ]
  },
  {
   "cell_type": "code",
   "execution_count": 14,
   "id": "cda9434b",
   "metadata": {},
   "outputs": [
    {
     "data": {
      "text/plain": [
       "Age               0.017832\n",
       "BMI               0.170152\n",
       "Glucose           2.593305\n",
       "Insulin           2.577568\n",
       "HOMA              3.812087\n",
       "Leptin            1.309536\n",
       "Adiponectin       1.817765\n",
       "Resistin          2.577429\n",
       "MCP.1             1.424436\n",
       "Classification   -0.210748\n",
       "dtype: float64"
      ]
     },
     "execution_count": 14,
     "metadata": {},
     "output_type": "execute_result"
    }
   ],
   "source": [
    "df.skew()"
   ]
  },
  {
   "cell_type": "code",
   "execution_count": 15,
   "id": "ed5c7dea",
   "metadata": {},
   "outputs": [
    {
     "data": {
      "image/png": "[encoded data removed]",
      "text/plain": [
       "<Figure size 1000x800 with 2 Axes>"
      ]
     },
     "metadata": {},
     "output_type": "display_data"
    }
   ],
   "source": [
    "corr_matrix = df.corr()\n",
    "\n",
    "plt.figure(figsize=(10, 8))\n",
    "\n",
    "heatmap = sns.heatmap(corr_matrix, cmap='coolwarm', annot=False, \n",
    "                      linewidths=0.5, cbar_kws={\"shrink\": 0.75}, vmin=-1, vmax=1, center=0)\n",
    "\n",
    "plt.title('Correlation Matrix Heatmap', fontsize=18, fontweight='bold')\n",
    "plt.xticks(fontsize=12, fontweight='bold', rotation=45)\n",
    "plt.yticks(fontsize=12, fontweight='bold', rotation=0)\n",
    "\n",
    "plt.tight_layout()\n",
    "\n",
    "plt.show()"
   ]
  },
  {
   "cell_type": "code",
   "execution_count": 16,
   "id": "54ea275f-4fab-459a-b99c-692b9aea4dd6",
   "metadata": {},
   "outputs": [
    {
     "data": {
      "text/html": [
       "<div>\n",
       "<style scoped>\n",
       "    .dataframe tbody tr th:only-of-type {\n",
       "        vertical-align: middle;\n",
       "    }\n",
       "\n",
       "    .dataframe tbody tr th {\n",
       "        vertical-align: top;\n",
       "    }\n",
       "\n",
       "    .dataframe thead th {\n",
       "        text-align: right;\n",
       "    }\n",
       "</style>\n",
       "<table border=\"1\" class=\"dataframe\">\n",
       "  <thead>\n",
       "    <tr style=\"text-align: right;\">\n",
       "      <th></th>\n",
       "      <th>Age</th>\n",
       "      <th>BMI</th>\n",
       "      <th>Glucose</th>\n",
       "      <th>Insulin</th>\n",
       "      <th>HOMA</th>\n",
       "      <th>Leptin</th>\n",
       "      <th>Adiponectin</th>\n",
       "      <th>Resistin</th>\n",
       "      <th>MCP.1</th>\n",
       "      <th>Classification</th>\n",
       "    </tr>\n",
       "  </thead>\n",
       "  <tbody>\n",
       "    <tr>\n",
       "      <th>Age</th>\n",
       "      <td>1.000000</td>\n",
       "      <td>0.008530</td>\n",
       "      <td>0.230106</td>\n",
       "      <td>0.032495</td>\n",
       "      <td>0.127033</td>\n",
       "      <td>0.102626</td>\n",
       "      <td>-0.219813</td>\n",
       "      <td>0.002742</td>\n",
       "      <td>0.013462</td>\n",
       "      <td>-0.043555</td>\n",
       "    </tr>\n",
       "    <tr>\n",
       "      <th>BMI</th>\n",
       "      <td>0.008530</td>\n",
       "      <td>1.000000</td>\n",
       "      <td>0.138845</td>\n",
       "      <td>0.145295</td>\n",
       "      <td>0.114480</td>\n",
       "      <td>0.569593</td>\n",
       "      <td>-0.302735</td>\n",
       "      <td>0.195350</td>\n",
       "      <td>0.224038</td>\n",
       "      <td>-0.132586</td>\n",
       "    </tr>\n",
       "    <tr>\n",
       "      <th>Glucose</th>\n",
       "      <td>0.230106</td>\n",
       "      <td>0.138845</td>\n",
       "      <td>1.000000</td>\n",
       "      <td>0.504653</td>\n",
       "      <td>0.696212</td>\n",
       "      <td>0.305080</td>\n",
       "      <td>-0.122121</td>\n",
       "      <td>0.291327</td>\n",
       "      <td>0.264879</td>\n",
       "      <td>0.384315</td>\n",
       "    </tr>\n",
       "    <tr>\n",
       "      <th>Insulin</th>\n",
       "      <td>0.032495</td>\n",
       "      <td>0.145295</td>\n",
       "      <td>0.504653</td>\n",
       "      <td>1.000000</td>\n",
       "      <td>0.932198</td>\n",
       "      <td>0.301462</td>\n",
       "      <td>-0.031296</td>\n",
       "      <td>0.146731</td>\n",
       "      <td>0.174356</td>\n",
       "      <td>0.276804</td>\n",
       "    </tr>\n",
       "    <tr>\n",
       "      <th>HOMA</th>\n",
       "      <td>0.127033</td>\n",
       "      <td>0.114480</td>\n",
       "      <td>0.696212</td>\n",
       "      <td>0.932198</td>\n",
       "      <td>1.000000</td>\n",
       "      <td>0.327210</td>\n",
       "      <td>-0.056337</td>\n",
       "      <td>0.231101</td>\n",
       "      <td>0.259529</td>\n",
       "      <td>0.284012</td>\n",
       "    </tr>\n",
       "    <tr>\n",
       "      <th>Leptin</th>\n",
       "      <td>0.102626</td>\n",
       "      <td>0.569593</td>\n",
       "      <td>0.305080</td>\n",
       "      <td>0.301462</td>\n",
       "      <td>0.327210</td>\n",
       "      <td>1.000000</td>\n",
       "      <td>-0.095389</td>\n",
       "      <td>0.256234</td>\n",
       "      <td>0.014009</td>\n",
       "      <td>-0.001078</td>\n",
       "    </tr>\n",
       "    <tr>\n",
       "      <th>Adiponectin</th>\n",
       "      <td>-0.219813</td>\n",
       "      <td>-0.302735</td>\n",
       "      <td>-0.122121</td>\n",
       "      <td>-0.031296</td>\n",
       "      <td>-0.056337</td>\n",
       "      <td>-0.095389</td>\n",
       "      <td>1.000000</td>\n",
       "      <td>-0.252363</td>\n",
       "      <td>-0.200694</td>\n",
       "      <td>-0.019490</td>\n",
       "    </tr>\n",
       "    <tr>\n",
       "      <th>Resistin</th>\n",
       "      <td>0.002742</td>\n",
       "      <td>0.195350</td>\n",
       "      <td>0.291327</td>\n",
       "      <td>0.146731</td>\n",
       "      <td>0.231101</td>\n",
       "      <td>0.256234</td>\n",
       "      <td>-0.252363</td>\n",
       "      <td>1.000000</td>\n",
       "      <td>0.366474</td>\n",
       "      <td>0.227310</td>\n",
       "    </tr>\n",
       "    <tr>\n",
       "      <th>MCP.1</th>\n",
       "      <td>0.013462</td>\n",
       "      <td>0.224038</td>\n",
       "      <td>0.264879</td>\n",
       "      <td>0.174356</td>\n",
       "      <td>0.259529</td>\n",
       "      <td>0.014009</td>\n",
       "      <td>-0.200694</td>\n",
       "      <td>0.366474</td>\n",
       "      <td>1.000000</td>\n",
       "      <td>0.091381</td>\n",
       "    </tr>\n",
       "    <tr>\n",
       "      <th>Classification</th>\n",
       "      <td>-0.043555</td>\n",
       "      <td>-0.132586</td>\n",
       "      <td>0.384315</td>\n",
       "      <td>0.276804</td>\n",
       "      <td>0.284012</td>\n",
       "      <td>-0.001078</td>\n",
       "      <td>-0.019490</td>\n",
       "      <td>0.227310</td>\n",
       "      <td>0.091381</td>\n",
       "      <td>1.000000</td>\n",
       "    </tr>\n",
       "  </tbody>\n",
       "</table>\n",
       "</div>"
      ],
      "text/plain": [
       "                     Age       BMI   Glucose   Insulin      HOMA    Leptin  \\\n",
       "Age             1.000000  0.008530  0.230106  0.032495  0.127033  0.102626   \n",
       "BMI             0.008530  1.000000  0.138845  0.145295  0.114480  0.569593   \n",
       "Glucose         0.230106  0.138845  1.000000  0.504653  0.696212  0.305080   \n",
       "Insulin         0.032495  0.145295  0.504653  1.000000  0.932198  0.301462   \n",
       "HOMA            0.127033  0.114480  0.696212  0.932198  1.000000  0.327210   \n",
       "Leptin          0.102626  0.569593  0.305080  0.301462  0.327210  1.000000   \n",
       "Adiponectin    -0.219813 -0.302735 -0.122121 -0.031296 -0.056337 -0.095389   \n",
       "Resistin        0.002742  0.195350  0.291327  0.146731  0.231101  0.256234   \n",
       "MCP.1           0.013462  0.224038  0.264879  0.174356  0.259529  0.014009   \n",
       "Classification -0.043555 -0.132586  0.384315  0.276804  0.284012 -0.001078   \n",
       "\n",
       "                Adiponectin  Resistin     MCP.1  Classification  \n",
       "Age               -0.219813  0.002742  0.013462       -0.043555  \n",
       "BMI               -0.302735  0.195350  0.224038       -0.132586  \n",
       "Glucose           -0.122121  0.291327  0.264879        0.384315  \n",
       "Insulin           -0.031296  0.146731  0.174356        0.276804  \n",
       "HOMA              -0.056337  0.231101  0.259529        0.284012  \n",
       "Leptin            -0.095389  0.256234  0.014009       -0.001078  \n",
       "Adiponectin        1.000000 -0.252363 -0.200694       -0.019490  \n",
       "Resistin          -0.252363  1.000000  0.366474        0.227310  \n",
       "MCP.1             -0.200694  0.366474  1.000000        0.091381  \n",
       "Classification    -0.019490  0.227310  0.091381        1.000000  "
      ]
     },
     "execution_count": 16,
     "metadata": {},
     "output_type": "execute_result"
    }
   ],
   "source": [
    "corr_matrix"
   ]
  },
  {
   "cell_type": "markdown",
   "id": "4c504515",
   "metadata": {},
   "source": [
    "4. Data Preparation"
   ]
  },
  {
   "cell_type": "code",
   "execution_count": 17,
   "id": "0ac1d562-6e00-4fb6-b814-dd9f63b74878",
   "metadata": {},
   "outputs": [],
   "source": [
    "X = df.drop('Classification', axis=1)\n",
    "y = df['Classification']"
   ]
  },
  {
   "cell_type": "code",
   "execution_count": 18,
   "id": "0d43fc38",
   "metadata": {},
   "outputs": [
    {
     "data": {
      "text/html": [
       "<div>\n",
       "<style scoped>\n",
       "    .dataframe tbody tr th:only-of-type {\n",
       "        vertical-align: middle;\n",
       "    }\n",
       "\n",
       "    .dataframe tbody tr th {\n",
       "        vertical-align: top;\n",
       "    }\n",
       "\n",
       "    .dataframe thead th {\n",
       "        text-align: right;\n",
       "    }\n",
       "</style>\n",
       "<table border=\"1\" class=\"dataframe\">\n",
       "  <thead>\n",
       "    <tr style=\"text-align: right;\">\n",
       "      <th></th>\n",
       "      <th>Age</th>\n",
       "      <th>BMI</th>\n",
       "      <th>Glucose</th>\n",
       "      <th>Insulin</th>\n",
       "      <th>HOMA</th>\n",
       "      <th>Leptin</th>\n",
       "      <th>Adiponectin</th>\n",
       "      <th>Resistin</th>\n",
       "      <th>MCP.1</th>\n",
       "    </tr>\n",
       "  </thead>\n",
       "  <tbody>\n",
       "    <tr>\n",
       "      <th>0</th>\n",
       "      <td>48</td>\n",
       "      <td>23.500000</td>\n",
       "      <td>70</td>\n",
       "      <td>2.707</td>\n",
       "      <td>0.467409</td>\n",
       "      <td>8.8071</td>\n",
       "      <td>9.702400</td>\n",
       "      <td>7.99585</td>\n",
       "      <td>417.114</td>\n",
       "    </tr>\n",
       "    <tr>\n",
       "      <th>1</th>\n",
       "      <td>83</td>\n",
       "      <td>20.690495</td>\n",
       "      <td>92</td>\n",
       "      <td>3.115</td>\n",
       "      <td>0.706897</td>\n",
       "      <td>8.8438</td>\n",
       "      <td>5.429285</td>\n",
       "      <td>4.06405</td>\n",
       "      <td>468.786</td>\n",
       "    </tr>\n",
       "    <tr>\n",
       "      <th>2</th>\n",
       "      <td>82</td>\n",
       "      <td>23.124670</td>\n",
       "      <td>91</td>\n",
       "      <td>4.498</td>\n",
       "      <td>1.009651</td>\n",
       "      <td>17.9393</td>\n",
       "      <td>22.432040</td>\n",
       "      <td>9.27715</td>\n",
       "      <td>554.697</td>\n",
       "    </tr>\n",
       "    <tr>\n",
       "      <th>3</th>\n",
       "      <td>68</td>\n",
       "      <td>21.367521</td>\n",
       "      <td>77</td>\n",
       "      <td>3.226</td>\n",
       "      <td>0.612725</td>\n",
       "      <td>9.8827</td>\n",
       "      <td>7.169560</td>\n",
       "      <td>12.76600</td>\n",
       "      <td>928.220</td>\n",
       "    </tr>\n",
       "    <tr>\n",
       "      <th>4</th>\n",
       "      <td>86</td>\n",
       "      <td>21.111111</td>\n",
       "      <td>92</td>\n",
       "      <td>3.549</td>\n",
       "      <td>0.805386</td>\n",
       "      <td>6.6994</td>\n",
       "      <td>4.819240</td>\n",
       "      <td>10.57635</td>\n",
       "      <td>773.920</td>\n",
       "    </tr>\n",
       "    <tr>\n",
       "      <th>...</th>\n",
       "      <td>...</td>\n",
       "      <td>...</td>\n",
       "      <td>...</td>\n",
       "      <td>...</td>\n",
       "      <td>...</td>\n",
       "      <td>...</td>\n",
       "      <td>...</td>\n",
       "      <td>...</td>\n",
       "      <td>...</td>\n",
       "    </tr>\n",
       "    <tr>\n",
       "      <th>111</th>\n",
       "      <td>45</td>\n",
       "      <td>26.850000</td>\n",
       "      <td>92</td>\n",
       "      <td>3.330</td>\n",
       "      <td>0.755688</td>\n",
       "      <td>54.6800</td>\n",
       "      <td>12.100000</td>\n",
       "      <td>10.96000</td>\n",
       "      <td>268.230</td>\n",
       "    </tr>\n",
       "    <tr>\n",
       "      <th>112</th>\n",
       "      <td>62</td>\n",
       "      <td>26.840000</td>\n",
       "      <td>100</td>\n",
       "      <td>4.530</td>\n",
       "      <td>1.117400</td>\n",
       "      <td>12.4500</td>\n",
       "      <td>21.420000</td>\n",
       "      <td>7.32000</td>\n",
       "      <td>330.160</td>\n",
       "    </tr>\n",
       "    <tr>\n",
       "      <th>113</th>\n",
       "      <td>65</td>\n",
       "      <td>32.050000</td>\n",
       "      <td>97</td>\n",
       "      <td>5.730</td>\n",
       "      <td>1.370998</td>\n",
       "      <td>61.4800</td>\n",
       "      <td>22.540000</td>\n",
       "      <td>10.33000</td>\n",
       "      <td>314.050</td>\n",
       "    </tr>\n",
       "    <tr>\n",
       "      <th>114</th>\n",
       "      <td>72</td>\n",
       "      <td>25.590000</td>\n",
       "      <td>82</td>\n",
       "      <td>2.820</td>\n",
       "      <td>0.570392</td>\n",
       "      <td>24.9600</td>\n",
       "      <td>33.750000</td>\n",
       "      <td>3.27000</td>\n",
       "      <td>392.460</td>\n",
       "    </tr>\n",
       "    <tr>\n",
       "      <th>115</th>\n",
       "      <td>86</td>\n",
       "      <td>27.180000</td>\n",
       "      <td>138</td>\n",
       "      <td>19.910</td>\n",
       "      <td>6.777364</td>\n",
       "      <td>90.2800</td>\n",
       "      <td>14.110000</td>\n",
       "      <td>4.35000</td>\n",
       "      <td>90.090</td>\n",
       "    </tr>\n",
       "  </tbody>\n",
       "</table>\n",
       "<p>116 rows × 9 columns</p>\n",
       "</div>"
      ],
      "text/plain": [
       "     Age        BMI  Glucose  Insulin      HOMA   Leptin  Adiponectin  \\\n",
       "0     48  23.500000       70    2.707  0.467409   8.8071     9.702400   \n",
       "1     83  20.690495       92    3.115  0.706897   8.8438     5.429285   \n",
       "2     82  23.124670       91    4.498  1.009651  17.9393    22.432040   \n",
       "3     68  21.367521       77    3.226  0.612725   9.8827     7.169560   \n",
       "4     86  21.111111       92    3.549  0.805386   6.6994     4.819240   \n",
       "..   ...        ...      ...      ...       ...      ...          ...   \n",
       "111   45  26.850000       92    3.330  0.755688  54.6800    12.100000   \n",
       "112   62  26.840000      100    4.530  1.117400  12.4500    21.420000   \n",
       "113   65  32.050000       97    5.730  1.370998  61.4800    22.540000   \n",
       "114   72  25.590000       82    2.820  0.570392  24.9600    33.750000   \n",
       "115   86  27.180000      138   19.910  6.777364  90.2800    14.110000   \n",
       "\n",
       "     Resistin    MCP.1  \n",
       "0     7.99585  417.114  \n",
       "1     4.06405  468.786  \n",
       "2     9.27715  554.697  \n",
       "3    12.76600  928.220  \n",
       "4    10.57635  773.920  \n",
       "..        ...      ...  \n",
       "111  10.96000  268.230  \n",
       "112   7.32000  330.160  \n",
       "113  10.33000  314.050  \n",
       "114   3.27000  392.460  \n",
       "115   4.35000   90.090  \n",
       "\n",
       "[116 rows x 9 columns]"
      ]
     },
     "execution_count": 18,
     "metadata": {},
     "output_type": "execute_result"
    }
   ],
   "source": [
    "X"
   ]
  },
  {
   "cell_type": "code",
   "execution_count": 19,
   "id": "0d8ac9ae",
   "metadata": {},
   "outputs": [],
   "source": [
    "y = y - 1\n",
    "X_train, X_test, y_train, y_test = train_test_split(X, y, test_size=0.3, stratify=y, random_state=42)\n"
   ]
  },
  {
   "cell_type": "code",
   "execution_count": 20,
   "id": "8c7222dc",
   "metadata": {},
   "outputs": [
    {
     "data": {
      "text/plain": [
       "Classification\n",
       "1    55.555556\n",
       "0    44.444444\n",
       "Name: proportion, dtype: float64"
      ]
     },
     "execution_count": 20,
     "metadata": {},
     "output_type": "execute_result"
    }
   ],
   "source": [
    "y_train.value_counts(normalize=True) * 100"
   ]
  },
  {
   "cell_type": "code",
   "execution_count": 21,
   "id": "c1d5d99b",
   "metadata": {},
   "outputs": [
    {
     "data": {
      "text/plain": [
       "Classification\n",
       "1    54.285714\n",
       "0    45.714286\n",
       "Name: proportion, dtype: float64"
      ]
     },
     "execution_count": 21,
     "metadata": {},
     "output_type": "execute_result"
    }
   ],
   "source": [
    "y_test.value_counts(normalize=True) * 100"
   ]
  },
  {
   "cell_type": "markdown",
   "id": "7188e74a",
   "metadata": {},
   "source": [
    "5. Data Standardization and Transformation"
   ]
  },
  {
   "cell_type": "code",
   "execution_count": 22,
   "id": "788545a1",
   "metadata": {},
   "outputs": [],
   "source": [
    "numerical_cols = ['Age', 'BMI']\n",
    "skewed_cols = ['Glucose', 'Insulin', 'HOMA', 'Leptin', 'Adiponectin', 'Resistin', 'MCP.1']"
   ]
  },
  {
   "cell_type": "code",
   "execution_count": 23,
   "id": "9a3f845c",
   "metadata": {},
   "outputs": [
    {
     "data": {
      "text/html": [
       "<div>\n",
       "<style scoped>\n",
       "    .dataframe tbody tr th:only-of-type {\n",
       "        vertical-align: middle;\n",
       "    }\n",
       "\n",
       "    .dataframe tbody tr th {\n",
       "        vertical-align: top;\n",
       "    }\n",
       "\n",
       "    .dataframe thead th {\n",
       "        text-align: right;\n",
       "    }\n",
       "</style>\n",
       "<table border=\"1\" class=\"dataframe\">\n",
       "  <thead>\n",
       "    <tr style=\"text-align: right;\">\n",
       "      <th></th>\n",
       "      <th>Age</th>\n",
       "      <th>BMI</th>\n",
       "      <th>Glucose</th>\n",
       "      <th>Insulin</th>\n",
       "      <th>HOMA</th>\n",
       "      <th>Leptin</th>\n",
       "      <th>Adiponectin</th>\n",
       "      <th>Resistin</th>\n",
       "      <th>MCP.1</th>\n",
       "    </tr>\n",
       "  </thead>\n",
       "  <tbody>\n",
       "    <tr>\n",
       "      <th>49</th>\n",
       "      <td>1.717215</td>\n",
       "      <td>-0.229274</td>\n",
       "      <td>96</td>\n",
       "      <td>4.462</td>\n",
       "      <td>1.056602</td>\n",
       "      <td>7.8500</td>\n",
       "      <td>7.931700</td>\n",
       "      <td>9.61350</td>\n",
       "      <td>232.006</td>\n",
       "    </tr>\n",
       "    <tr>\n",
       "      <th>103</th>\n",
       "      <td>0.889651</td>\n",
       "      <td>0.250474</td>\n",
       "      <td>83</td>\n",
       "      <td>10.949</td>\n",
       "      <td>2.241625</td>\n",
       "      <td>26.8081</td>\n",
       "      <td>2.784910</td>\n",
       "      <td>14.76966</td>\n",
       "      <td>232.018</td>\n",
       "    </tr>\n",
       "    <tr>\n",
       "      <th>100</th>\n",
       "      <td>1.016969</td>\n",
       "      <td>0.158513</td>\n",
       "      <td>88</td>\n",
       "      <td>3.012</td>\n",
       "      <td>0.653805</td>\n",
       "      <td>31.1233</td>\n",
       "      <td>7.652220</td>\n",
       "      <td>18.35574</td>\n",
       "      <td>572.401</td>\n",
       "    </tr>\n",
       "    <tr>\n",
       "      <th>81</th>\n",
       "      <td>1.462580</td>\n",
       "      <td>0.724119</td>\n",
       "      <td>100</td>\n",
       "      <td>9.669</td>\n",
       "      <td>2.385020</td>\n",
       "      <td>38.8066</td>\n",
       "      <td>10.636525</td>\n",
       "      <td>29.55830</td>\n",
       "      <td>426.175</td>\n",
       "    </tr>\n",
       "    <tr>\n",
       "      <th>90</th>\n",
       "      <td>-1.147430</td>\n",
       "      <td>0.572072</td>\n",
       "      <td>128</td>\n",
       "      <td>41.894</td>\n",
       "      <td>13.227332</td>\n",
       "      <td>31.0385</td>\n",
       "      <td>6.160995</td>\n",
       "      <td>17.55503</td>\n",
       "      <td>638.261</td>\n",
       "    </tr>\n",
       "  </tbody>\n",
       "</table>\n",
       "</div>"
      ],
      "text/plain": [
       "          Age       BMI  Glucose  Insulin       HOMA   Leptin  Adiponectin  \\\n",
       "49   1.717215 -0.229274       96    4.462   1.056602   7.8500     7.931700   \n",
       "103  0.889651  0.250474       83   10.949   2.241625  26.8081     2.784910   \n",
       "100  1.016969  0.158513       88    3.012   0.653805  31.1233     7.652220   \n",
       "81   1.462580  0.724119      100    9.669   2.385020  38.8066    10.636525   \n",
       "90  -1.147430  0.572072      128   41.894  13.227332  31.0385     6.160995   \n",
       "\n",
       "     Resistin    MCP.1  \n",
       "49    9.61350  232.006  \n",
       "103  14.76966  232.018  \n",
       "100  18.35574  572.401  \n",
       "81   29.55830  426.175  \n",
       "90   17.55503  638.261  "
      ]
     },
     "execution_count": 23,
     "metadata": {},
     "output_type": "execute_result"
    }
   ],
   "source": [
    "scaler = StandardScaler()\n",
    "X_train[numerical_cols] = scaler.fit_transform(X_train[numerical_cols])\n",
    "X_test[numerical_cols] = scaler.transform(X_test[numerical_cols])\n",
    "\n",
    "X_train.head()"
   ]
  },
  {
   "cell_type": "code",
   "execution_count": 24,
   "id": "abfa88ef",
   "metadata": {},
   "outputs": [
    {
     "name": "stdout",
     "output_type": "stream",
     "text": [
      "Mean: 1.2061682242841206e-16\n",
      "Std: 1.0062305898749053\n"
     ]
    }
   ],
   "source": [
    "print('Mean:', X_train.Age.mean())\n",
    "print('Std:', X_train.Age.std())"
   ]
  },
  {
   "cell_type": "code",
   "execution_count": 25,
   "id": "687541fa",
   "metadata": {},
   "outputs": [
    {
     "data": {
      "text/html": [
       "<div>\n",
       "<style scoped>\n",
       "    .dataframe tbody tr th:only-of-type {\n",
       "        vertical-align: middle;\n",
       "    }\n",
       "\n",
       "    .dataframe tbody tr th {\n",
       "        vertical-align: top;\n",
       "    }\n",
       "\n",
       "    .dataframe thead th {\n",
       "        text-align: right;\n",
       "    }\n",
       "</style>\n",
       "<table border=\"1\" class=\"dataframe\">\n",
       "  <thead>\n",
       "    <tr style=\"text-align: right;\">\n",
       "      <th></th>\n",
       "      <th>Age</th>\n",
       "      <th>BMI</th>\n",
       "      <th>Glucose</th>\n",
       "      <th>Insulin</th>\n",
       "      <th>HOMA</th>\n",
       "      <th>Leptin</th>\n",
       "      <th>Adiponectin</th>\n",
       "      <th>Resistin</th>\n",
       "      <th>MCP.1</th>\n",
       "    </tr>\n",
       "  </thead>\n",
       "  <tbody>\n",
       "    <tr>\n",
       "      <th>49</th>\n",
       "      <td>1.717215</td>\n",
       "      <td>-0.229274</td>\n",
       "      <td>0.084430</td>\n",
       "      <td>-0.685407</td>\n",
       "      <td>-0.634002</td>\n",
       "      <td>-1.330359</td>\n",
       "      <td>0.008717</td>\n",
       "      <td>-0.221702</td>\n",
       "      <td>-0.893693</td>\n",
       "    </tr>\n",
       "    <tr>\n",
       "      <th>103</th>\n",
       "      <td>0.889651</td>\n",
       "      <td>0.250474</td>\n",
       "      <td>-0.832472</td>\n",
       "      <td>0.688707</td>\n",
       "      <td>0.426164</td>\n",
       "      <td>0.405165</td>\n",
       "      <td>-2.200333</td>\n",
       "      <td>0.411018</td>\n",
       "      <td>-0.893629</td>\n",
       "    </tr>\n",
       "    <tr>\n",
       "      <th>100</th>\n",
       "      <td>1.016969</td>\n",
       "      <td>0.158513</td>\n",
       "      <td>-0.440828</td>\n",
       "      <td>-1.423485</td>\n",
       "      <td>-1.319673</td>\n",
       "      <td>0.605320</td>\n",
       "      <td>-0.056880</td>\n",
       "      <td>0.713500</td>\n",
       "      <td>0.347580</td>\n",
       "    </tr>\n",
       "    <tr>\n",
       "      <th>81</th>\n",
       "      <td>1.462580</td>\n",
       "      <td>0.724119</td>\n",
       "      <td>0.309224</td>\n",
       "      <td>0.526329</td>\n",
       "      <td>0.506026</td>\n",
       "      <td>0.895724</td>\n",
       "      <td>0.514907</td>\n",
       "      <td>1.331834</td>\n",
       "      <td>-0.087997</td>\n",
       "    </tr>\n",
       "    <tr>\n",
       "      <th>90</th>\n",
       "      <td>-1.147430</td>\n",
       "      <td>0.572072</td>\n",
       "      <td>1.421082</td>\n",
       "      <td>1.939661</td>\n",
       "      <td>1.957092</td>\n",
       "      <td>0.601687</td>\n",
       "      <td>-0.470180</td>\n",
       "      <td>0.652457</td>\n",
       "      <td>0.516376</td>\n",
       "    </tr>\n",
       "  </tbody>\n",
       "</table>\n",
       "</div>"
      ],
      "text/plain": [
       "          Age       BMI   Glucose   Insulin      HOMA    Leptin  Adiponectin  \\\n",
       "49   1.717215 -0.229274  0.084430 -0.685407 -0.634002 -1.330359     0.008717   \n",
       "103  0.889651  0.250474 -0.832472  0.688707  0.426164  0.405165    -2.200333   \n",
       "100  1.016969  0.158513 -0.440828 -1.423485 -1.319673  0.605320    -0.056880   \n",
       "81   1.462580  0.724119  0.309224  0.526329  0.506026  0.895724     0.514907   \n",
       "90  -1.147430  0.572072  1.421082  1.939661  1.957092  0.601687    -0.470180   \n",
       "\n",
       "     Resistin     MCP.1  \n",
       "49  -0.221702 -0.893693  \n",
       "103  0.411018 -0.893629  \n",
       "100  0.713500  0.347580  \n",
       "81   1.331834 -0.087997  \n",
       "90   0.652457  0.516376  "
      ]
     },
     "execution_count": 25,
     "metadata": {},
     "output_type": "execute_result"
    }
   ],
   "source": [
    "transformer = PowerTransformer()\n",
    "X_train[skewed_cols] = transformer.fit_transform(X_train[skewed_cols])\n",
    "X_test[skewed_cols] = transformer.transform(X_test[skewed_cols])\n",
    "\n",
    "X_train.head()"
   ]
  },
  {
   "cell_type": "code",
   "execution_count": 26,
   "id": "13cf9eb8",
   "metadata": {},
   "outputs": [
    {
     "name": "stdout",
     "output_type": "stream",
     "text": [
      "Std: 1.0062305898749055\n",
      "Skew: 0.029901996958450982\n",
      "Mean: 6.606512319374388e-16\n"
     ]
    }
   ],
   "source": [
    "print('Std:', X_train.Leptin.std())\n",
    "print('Skew:', X_train.Leptin.skew())\n",
    "print('Mean:', X_train.Leptin.mean())"
   ]
  },
  {
   "cell_type": "markdown",
   "id": "d69db369",
   "metadata": {},
   "source": [
    "6. Training Classification Models"
   ]
  },
  {
   "cell_type": "code",
   "execution_count": 27,
   "id": "065eabf9",
   "metadata": {},
   "outputs": [
    {
     "name": "stdout",
     "output_type": "stream",
     "text": [
      "SVM accuracy: 0.8857142857142857\n"
     ]
    }
   ],
   "source": [
    "svm = SVC(probability=True)\n",
    "svm.fit(X_train, y_train)\n",
    "svm_score = svm.score(X_test, y_test)\n",
    "print('SVM accuracy:', svm_score)"
   ]
  },
  {
   "cell_type": "code",
   "execution_count": 28,
   "id": "83042005",
   "metadata": {},
   "outputs": [
    {
     "name": "stdout",
     "output_type": "stream",
     "text": [
      "Real classes: [0, 1, 0, 1, 0, 1, 0, 1, 1, 0]\n",
      "Predicted classes: [0, 1, 1, 1, 0, 1, 0, 1, 1, 0]\n"
     ]
    }
   ],
   "source": [
    "print('Real classes:', y_test[:10].tolist())\n",
    "print('Predicted classes:', svm.predict(X_test[:10]).tolist())"
   ]
  },
  {
   "cell_type": "code",
   "execution_count": 29,
   "id": "5b879d20",
   "metadata": {},
   "outputs": [
    {
     "name": "stdout",
     "output_type": "stream",
     "text": [
      "Decision Tree accuracy: 0.7714285714285715\n",
      "K-Nearest Neighbors accuracy: 0.7428571428571429\n",
      "Naive Bayes accuracy: 0.7428571428571429\n",
      "Logistic Regression accuracy: 0.7428571428571429\n"
     ]
    }
   ],
   "source": [
    "\n",
    "dt = DecisionTreeClassifier(ccp_alpha=0.001, random_state=42)\n",
    "\n",
    "dt.fit(X_train, y_train)\n",
    "dt_score = dt.score(X_test, y_test)\n",
    "print('Decision Tree accuracy:', dt_score)\n",
    "\n",
    "\n",
    "knn = KNeighborsClassifier()\n",
    "\n",
    "knn.fit(X_train, y_train)\n",
    "knn_score = knn.score(X_test, y_test)\n",
    "print('K-Nearest Neighbors accuracy:', knn_score)\n",
    "\n",
    "\n",
    "nb = GaussianNB()\n",
    "\n",
    "nb.fit(X_train, y_train)\n",
    "nb_score = nb.score(X_test, y_test)\n",
    "print('Naive Bayes accuracy:', nb_score)\n",
    "\n",
    "\n",
    "lr = LogisticRegression(random_state=42)\n",
    "\n",
    "lr.fit(X_train, y_train)\n",
    "lr_score = lr.score(X_test, y_test)\n",
    "print('Logistic Regression accuracy:', lr_score)"
   ]
  },
  {
   "cell_type": "code",
   "execution_count": 30,
   "id": "acf9ea0c",
   "metadata": {},
   "outputs": [
    {
     "name": "stdout",
     "output_type": "stream",
     "text": [
      "Random Forest accuracy: 0.8\n"
     ]
    }
   ],
   "source": [
    "\n",
    "rf = RandomForestClassifier(random_state=42)\n",
    "\n",
    "rf.fit(X_train, y_train)\n",
    "rf_score = rf.score(X_test, y_test)\n",
    "print('Random Forest accuracy:', rf_score)"
   ]
  },
  {
   "cell_type": "code",
   "execution_count": 32,
   "id": "aa9cdb5f",
   "metadata": {},
   "outputs": [
    {
     "name": "stdout",
     "output_type": "stream",
     "text": [
      "XGB accuracy: 0.8\n"
     ]
    }
   ],
   "source": [
    "xgb = XGBClassifier(random_state=42)\n",
    "xgb.fit(X_train, y_train)\n",
    "xgb_score = xgb.score(X_test, y_test)\n",
    "print('XGB accuracy:', xgb_score)"
   ]
  },
  {
   "cell_type": "code",
   "execution_count": 33,
   "id": "4e3a89bb",
   "metadata": {},
   "outputs": [
    {
     "name": "stdout",
     "output_type": "stream",
     "text": [
      "Hard voting classifier accuracy: 0.8857142857142857\n"
     ]
    }
   ],
   "source": [
    "voting_hard = VotingClassifier(estimators=[('svm', svm),  ('xgb', xgb), ('rf', rf)], voting='hard')\n",
    "\n",
    "voting_hard.fit(X_train, y_train)\n",
    "hard_score = voting_hard.score(X_test, y_test)\n",
    "print('Hard voting classifier accuracy:', hard_score)"
   ]
  },
  {
   "cell_type": "code",
   "execution_count": 34,
   "id": "18545673",
   "metadata": {},
   "outputs": [
    {
     "name": "stdout",
     "output_type": "stream",
     "text": [
      "Soft voting classifier accuracy: 0.8\n"
     ]
    }
   ],
   "source": [
    "voting_soft = VotingClassifier(estimators=[('svm', svm),  ('xgb', xgb), ('rf', rf)], voting='soft')\n",
    "\n",
    "voting_soft.fit(X_train, y_train)\n",
    "soft_score = voting_soft.score(X_test, y_test)\n",
    "print('Soft voting classifier accuracy:', soft_score)"
   ]
  },
  {
   "cell_type": "markdown",
   "id": "63de042e",
   "metadata": {},
   "source": [
    "7. Model Comparison"
   ]
  },
  {
   "cell_type": "code",
   "execution_count": 35,
   "id": "f58533ab",
   "metadata": {},
   "outputs": [
    {
     "data": {
      "image/png": "[encoded data removed]",
      "text/plain": [
       "<Figure size 1000x600 with 1 Axes>"
      ]
     },
     "metadata": {},
     "output_type": "display_data"
    }
   ],
   "source": [
    "results = {\n",
    "    'SVM': svm_score,\n",
    "    'Decision Tree': dt_score,\n",
    "    'KNN': knn_score,\n",
    "    'Naive Bayes': nb_score,\n",
    "    'Logistic Regression': lr_score,\n",
    "    'Random Forest': rf_score,\n",
    "    'XGBoost': xgb_score,\n",
    "    'Hard Voting': hard_score,\n",
    "    'Soft Voting': soft_score\n",
    "}\n",
    "\n",
    "summary = pd.Series(results)\n",
    "\n",
    "# Plotting the accuracy scores\n",
    "plt.figure(figsize=(10, 6))\n",
    "bars = summary.plot.barh(color='#385fe0')\n",
    "labels = [f'{val:.2%}' for val in summary.values]\n",
    "bars.bar_label(bars.containers[0], labels=labels, padding=3, fontsize=12)\n",
    "plt.xlim(0.7, 0.92)\n",
    "\n",
    "# Highlighting all models with the highest score\n",
    "max_score = summary.max()\n",
    "max_indices = summary[summary == max_score].index\n",
    "for idx in max_indices:\n",
    "    bar_idx = summary.index.get_loc(idx)\n",
    "    bars.patches[bar_idx].set_color('#0dd141')\n",
    "\n",
    "plt.title('Accuracy scores', fontsize=18, fontweight='bold')\n",
    "plt.xlabel('Accuracy', fontsize=14, fontweight='bold')\n",
    "plt.ylabel('Classifier', fontsize=14, fontweight='bold')\n",
    "plt.xticks(fontweight='bold')\n",
    "plt.yticks(fontweight='bold')\n",
    "plt.show()"
   ]
  },
  {
   "cell_type": "markdown",
   "id": "baf97bc4",
   "metadata": {},
   "source": [
    "8. Feature Importance"
   ]
  },
  {
   "cell_type": "code",
   "execution_count": 36,
   "id": "7e121b89",
   "metadata": {},
   "outputs": [
    {
     "name": "stderr",
     "output_type": "stream",
     "text": [
      "100%|██████████| 81/81 [00:00<00:00, 297.33it/s]\n"
     ]
    },
    {
     "data": {
      "image/png": "[encoded data removed]",
      "text/plain": [
       "<Figure size 1000x800 with 1 Axes>"
      ]
     },
     "metadata": {},
     "output_type": "display_data"
    }
   ],
   "source": [
    "imp = Importance(svm, X_train, continuous_features = [0,1,2,3,4,5,6,7,8])\n",
    "Result = imp.calculate_feature_importances(plot=True)"
   ]
  },
  {
   "cell_type": "markdown",
   "id": "f73f0d4f",
   "metadata": {},
   "source": [
    "9. Error Analysis"
   ]
  },
  {
   "cell_type": "code",
   "execution_count": 37,
   "id": "eb457032",
   "metadata": {},
   "outputs": [
    {
     "name": "stdout",
     "output_type": "stream",
     "text": [
      "Confusion Matrix for SVM:\n",
      "[[14  2]\n",
      " [ 2 17]]\n",
      "\n",
      "Confusion Matrix for Hard Voting:\n",
      "[[14  2]\n",
      " [ 2 17]]\n"
     ]
    }
   ],
   "source": [
    "y_pred_svm = svm.predict(X_test)\n",
    "y_pred_voting_hard = voting_hard.predict(X_test)\n",
    "\n",
    "cm_svm = confusion_matrix(y_test, y_pred_svm)\n",
    "cm_voting_hard = confusion_matrix(y_test, y_pred_voting_hard)\n",
    "\n",
    "print(\"Confusion Matrix for SVM:\")\n",
    "print(cm_svm)\n",
    "\n",
    "print(\"\\nConfusion Matrix for Hard Voting:\")\n",
    "print(cm_voting_hard)"
   ]
  },
  {
   "cell_type": "code",
   "execution_count": 38,
   "id": "9f8902c2",
   "metadata": {},
   "outputs": [
    {
     "name": "stdout",
     "output_type": "stream",
     "text": [
      "Classification Report for SVM:\n",
      "              precision    recall  f1-score   support\n",
      "\n",
      "     Class 0       0.88      0.88      0.88        16\n",
      "     Class 1       0.89      0.89      0.89        19\n",
      "\n",
      "    accuracy                           0.89        35\n",
      "   macro avg       0.88      0.88      0.88        35\n",
      "weighted avg       0.89      0.89      0.89        35\n",
      "\n",
      "Classification Report for Hard Voting:\n",
      "              precision    recall  f1-score   support\n",
      "\n",
      "     Class 0       0.88      0.88      0.88        16\n",
      "     Class 1       0.89      0.89      0.89        19\n",
      "\n",
      "    accuracy                           0.89        35\n",
      "   macro avg       0.88      0.88      0.88        35\n",
      "weighted avg       0.89      0.89      0.89        35\n",
      "\n"
     ]
    }
   ],
   "source": [
    "print(\"Classification Report for SVM:\")\n",
    "print(classification_report(y_test, y_pred_svm, target_names=['Class 0', 'Class 1']))\n",
    "\n",
    "print(\"Classification Report for Hard Voting:\")\n",
    "print(classification_report(y_test, y_pred_voting_hard, target_names=['Class 0', 'Class 1']))"
   ]
  },
  {
   "cell_type": "markdown",
   "id": "a02bb4eb",
   "metadata": {},
   "source": [
    "10. Summary"
   ]
  },
  {
   "cell_type": "markdown",
   "id": "b18e438b",
   "metadata": {},
   "source": [
    "### Summary\n",
    "\n",
    "The dataset used in this project was obtained from the UCI Machine Learning Repository and consists of 9 quantitative predictors and a binary dependent variable indicating the presence or absence of breast cancer. The predictors include anthropometric data and parameters that can be gathered during routine blood analysis. Accurate prediction models based on these predictors could potentially be used as biomarkers for breast cancer.\n",
    "\n",
    "#### Predictors:\n",
    "- **Age** (years)\n",
    "- **BMI** (kg/m²)\n",
    "- **Glucose** (mg/dL)\n",
    "- **Insulin** (µU/mL)\n",
    "- **HOMA**\n",
    "- **Leptin** (ng/mL)\n",
    "- **Adiponectin** (µg/mL)\n",
    "- **Resistin** (ng/mL)\n",
    "- **MCP-1** (pg/dL)\n",
    "\n",
    "#### Labels:\n",
    "- **1**: Healthy controls\n",
    "- **2**: Patients\n",
    "\n",
    "### Project Objective\n",
    "\n",
    "The primary objective of this project was to develop and evaluate machine learning models that can accurately predict the presence of breast cancer using the given predictors. Various classification models were trained and evaluated, including Support Vector Machine (SVM) and a Hard Voting ensemble model.\n",
    "\n",
    "### Methods\n",
    "\n",
    "1. **Data Exploration and Preprocessing**:\n",
    "    - Initial data exploration included checking for missing values, duplicates, and understanding the distribution of each predictor.\n",
    "    - Data preprocessing involved standardization and transformation of skewed features.\n",
    "    - The class labels were transformed from 1 and 2 to 0 (Healthy controls) and 1 (Patients), respectively, to fit the binary classification models.\n",
    "\n",
    "2. **Model Training**:\n",
    "    - Several classification models were trained, including SVM, Decision Tree, K-Nearest Neighbors (KNN), Naive Bayes, Logistic Regression, Random Forest, and XGBoost.\n",
    "    - A Hard Voting classifier was also constructed using the SVM, Random Forest, and XGBoost models.\n",
    "\n",
    "3. **Model Evaluation**:\n",
    "    - Models were evaluated using accuracy, precision, recall, and F1-score.\n",
    "    - Confusion matrices were computed and analyzed for both the SVM and Hard Voting models.\n",
    "\n",
    "4. **Feature Importance**:\n",
    "    - Feature importance was analyzed for the SVM model to understand which predictors contributed most to the classification.\n",
    "\n",
    "### Results\n",
    "\n",
    "- The **SVM** and **Hard Voting** models achieved the highest accuracy, demonstrating their effectiveness in predicting breast cancer based on the provided predictors.\n",
    "- **Confusion Matrices** for both models were computed, revealing their respective performance in classifying healthy controls and patients.\n",
    "- **Feature Importance** analysis highlighted key predictors, providing insights into the most influential factors in the prediction models.\n",
    "\n",
    "### Conclusion\n",
    "\n",
    "The project successfully developed and evaluated multiple machine learning models for predicting breast cancer using quantitative anthropometric and blood analysis parameters. The SVM and Hard Voting models demonstrated high accuracy, suggesting their potential as reliable tools for breast cancer prediction. \n"
   ]
  }
 ],
 "metadata": {
  "kernelspec": {
   "display_name": "Python 3 (ipykernel)",
   "language": "python",
   "name": "python3"
  },
  "language_info": {
   "codemirror_mode": {
    "name": "ipython",
    "version": 3
   },
   "file_extension": ".py",
   "mimetype": "text/x-python",
   "name": "python",
   "nbconvert_exporter": "python",
   "pygments_lexer": "ipython3",
   "version": "3.10.14"
  }
 },
 "nbformat": 4,
 "nbformat_minor": 5
}
